{
 "cells": [
  {
   "cell_type": "code",
   "execution_count": null,
   "metadata": {},
   "outputs": [],
   "source": [
    "import librosa as lr\n",
    "import numpy as np\n",
    "import matplotlib.pyplot as plt\n",
    "import scipy as sp\n",
    "%matplotlib inline"
   ]
  },
  {
   "cell_type": "markdown",
   "metadata": {},
   "source": [
    "http://librosa.github.io/librosa/"
   ]
  },
  {
   "cell_type": "code",
   "execution_count": null,
   "metadata": {},
   "outputs": [],
   "source": [
    "y, sr = lr.load('generated_audio_files/tetrisA_mono.wav', sr=44100)\n",
    "y_harmonic,y_percussive = lr.effects.hpss(y)\n",
    "t = np.arange(len(y)) / sr"
   ]
  },
  {
   "cell_type": "markdown",
   "metadata": {},
   "source": [
    "efficient constant-Q transform\n",
    "http://smcnetwork.org/node/1380"
   ]
  },
  {
   "cell_type": "code",
   "execution_count": null,
   "metadata": {},
   "outputs": [],
   "source": [
    "BANDS_PER_NOTE = 3;\n",
    "n_bins = BANDS_PER_NOTE*88\n",
    "bins_per_octave=12*BANDS_PER_NOTE\n",
    "fmin= lr.midi_to_hz( 21 - (np.floor(BANDS_PER_NOTE/2)/BANDS_PER_NOTE) )"
   ]
  },
  {
   "cell_type": "code",
   "execution_count": null,
   "metadata": {},
   "outputs": [],
   "source": [
    "CQT = lr.cqt(y=y,bins_per_octave=bins_per_octave, fmin=fmin, n_bins=n_bins)\n",
    "f = lr.cqt_frequencies(bins_per_octave=bins_per_octave, fmin=fmin, n_bins=n_bins)\n",
    "midi_nn = np.arange(21-1/BANDS_PER_NOTE,108+2/BANDS_PER_NOTE, step=1/BANDS_PER_NOTE)"
   ]
  },
  {
   "cell_type": "markdown",
   "metadata": {},
   "source": [
    "https://en.wikipedia.org/wiki/Sound_pressure#Sound_pressure_level"
   ]
  },
  {
   "cell_type": "code",
   "execution_count": null,
   "metadata": {},
   "outputs": [],
   "source": [
    "SPL = 10* np.log10( np.real(CQT * np.conj(CQT)) )"
   ]
  },
  {
   "cell_type": "code",
   "execution_count": null,
   "metadata": {},
   "outputs": [],
   "source": [
    "plt.figure(dpi = 150, figsize=(10,5))\n",
    "extent=[t[0], t[-1], midi_nn[0], midi_nn[-1]]\n",
    "plt.imshow(SPL, origin='lower', extent=extent, interpolation='none', aspect='auto', cmap='gray')\n",
    "plt.xlabel('Time - s')\n",
    "plt.ylabel('Midi Note Number')\n",
    "plt.title('Original Recording')\n",
    "plt.colorbar()"
   ]
  },
  {
   "cell_type": "markdown",
   "metadata": {},
   "source": [
    "#### Harmonic Component"
   ]
  },
  {
   "cell_type": "code",
   "execution_count": null,
   "metadata": {},
   "outputs": [],
   "source": [
    "CQT = lr.cqt(y=y_harmonic,bins_per_octave=bins_per_octave, fmin=fmin, n_bins=n_bins)\n",
    "f = lr.cqt_frequencies(bins_per_octave=bins_per_octave, fmin=fmin, n_bins=n_bins)\n",
    "midi_nn = np.arange(21-1/BANDS_PER_NOTE,108+2/BANDS_PER_NOTE, step=1/BANDS_PER_NOTE)"
   ]
  },
  {
   "cell_type": "code",
   "execution_count": null,
   "metadata": {},
   "outputs": [],
   "source": [
    "SPL = 10* np.log10( np.real(CQT * np.conj(CQT)) )"
   ]
  },
  {
   "cell_type": "code",
   "execution_count": null,
   "metadata": {},
   "outputs": [],
   "source": [
    "plt.figure(dpi = 150, figsize=(10,5))\n",
    "extent=[t[0], t[-1], midi_nn[0], midi_nn[-1]]\n",
    "plt.imshow(SPL, origin='lower', extent=extent, interpolation='none', aspect='auto',cmap='gray')\n",
    "plt.xlabel('Time - s')\n",
    "plt.ylabel('Midi Note Number')\n",
    "plt.title('Separated Harmonic Component')\n",
    "plt.colorbar()"
   ]
  },
  {
   "cell_type": "code",
   "execution_count": null,
   "metadata": {},
   "outputs": [],
   "source": [
    "A_weight = np.tile(lr.A_weighting(f), [np.shape(SPL)[1],1]).T"
   ]
  },
  {
   "cell_type": "code",
   "execution_count": null,
   "metadata": {},
   "outputs": [],
   "source": [
    "plt.figure(dpi = 150, figsize=(10,5))\n",
    "extent=[t[0], t[-1], midi_nn[0], midi_nn[-1]]\n",
    "plt.imshow(SPL+A_weight, origin='lower', extent=extent, interpolation='none', aspect='auto', cmap='gray')\n",
    "plt.xlabel('Time - s')\n",
    "plt.ylabel('Midi Note Number')\n",
    "plt.title('A-Weighted')\n",
    "plt.colorbar()"
   ]
  },
  {
   "cell_type": "code",
   "execution_count": null,
   "metadata": {},
   "outputs": [],
   "source": [
    "def harmonic_template(BANDS_PER_NOTE, sigma, length):\n",
    "    harmonics = np.array([0.0, 12.0, 19.0, 24.0, 28.0])\n",
    "    harmonics = harmonics * BANDS_PER_NOTE\n",
    "    center = np.max(harmonics)\n",
    "    vert = np.zeros(int(2*center + 1))\n",
    "    idx = (center + harmonics).astype('int')\n",
    "    vert[idx] = 1\n",
    "    penalty = np.array([0.0, 4.0, 9.0, 16.0]) * BANDS_PER_NOTE\n",
    "    idx = penalty.astype('int')\n",
    "    vert[idx] = -1\n",
    "    window = sp.signal.gaussian(len(vert),len(vert) * 0.3)\n",
    "#     vert = vert * window\n",
    "    offset = np.arange(-center, center+1, 1)\n",
    "    x = np.linspace(-np.pi, np.pi, length); \n",
    "#     [X,Y] = np.meshgrid(np.tanh(x), vert)\n",
    "    [X,Y] = np.meshgrid(1, vert)\n",
    "    midpt = int(np.shape(X)[0]/2);\n",
    "    X[0:midpt,:] = 1\n",
    "    H = X*Y\n",
    "#     H = np.flipud(np.fliplr(X*Y))\n",
    "    return H, offset"
   ]
  },
  {
   "cell_type": "code",
   "execution_count": null,
   "metadata": {},
   "outputs": [],
   "source": [
    "sigma = 0.3\n",
    "length = 100\n",
    "H,offset = harmonic_template(BANDS_PER_NOTE, sigma, length)"
   ]
  },
  {
   "cell_type": "code",
   "execution_count": null,
   "metadata": {},
   "outputs": [],
   "source": [
    "plt.figure(dpi = 100, figsize=(4,4))\n",
    "extent=[-length/2, length/2, offset[0], offset[-1]]\n",
    "plt.imshow(H,origin='lower', extent=extent, cmap='gray')\n",
    "plt.colorbar()"
   ]
  },
  {
   "cell_type": "code",
   "execution_count": null,
   "metadata": {},
   "outputs": [],
   "source": [
    "filtered = sp.ndimage.filters.correlate(SPL+A_weight, H)"
   ]
  },
  {
   "cell_type": "code",
   "execution_count": null,
   "metadata": {},
   "outputs": [],
   "source": [
    "plt.figure(dpi = 150, figsize=(10,5))\n",
    "extent=[t[0], t[-1], midi_nn[0], midi_nn[-1]]\n",
    "plt.imshow(filtered, origin='lower', extent=extent, interpolation='none', aspect='auto',cmap='gray')\n",
    "plt.xlabel('Time - s')\n",
    "plt.ylabel('Midi Note Number')\n",
    "plt.title('Result of Cross-Correlation')\n",
    "plt.colorbar()"
   ]
  },
  {
   "cell_type": "code",
   "execution_count": null,
   "metadata": {},
   "outputs": [],
   "source": [
    "plt.figure(dpi = 150, figsize=(10,5))\n",
    "extent=[t[0], t[-1], midi_nn[0], midi_nn[-1]]\n",
    "plt.imshow(filtered>180, origin='lower', extent=extent, interpolation='none', aspect='auto',cmap='gray')\n",
    "plt.xlabel('Time - s')\n",
    "plt.ylabel('Midi Note Number')\n",
    "plt.title('Thresholded')\n",
    "plt.colorbar()"
   ]
  },
  {
   "cell_type": "code",
   "execution_count": null,
   "metadata": {},
   "outputs": [],
   "source": [
    "threshold = 170\n",
    "transcription = (filtered[1:-1:3,:]>threshold).astype('int')"
   ]
  },
  {
   "cell_type": "code",
   "execution_count": null,
   "metadata": {},
   "outputs": [],
   "source": [
    "import midi"
   ]
  },
  {
   "cell_type": "code",
   "execution_count": null,
   "metadata": {},
   "outputs": [],
   "source": [
    "recon_fact = 5"
   ]
  },
  {
   "cell_type": "code",
   "execution_count": null,
   "metadata": {},
   "outputs": [],
   "source": [
    "onset = np.diff(transcription,1) == 1\n",
    "offset = np.diff(transcription,1) == -1\n",
    "onset_time, onset_note = np.where(onset.T)\n",
    "offset_time, offset_note = np.where(offset.T)\n",
    "note_data = np.zeros([len(onset_time),3])"
   ]
  },
  {
   "cell_type": "code",
   "execution_count": null,
   "metadata": {},
   "outputs": [],
   "source": [
    "for i_onset, note in enumerate(onset_note):\n",
    "    note_data[i_onset,0] = onset_time[i_onset]*recon_fact\n",
    "    note_data[i_onset,1] = onset_note[i_onset]\n",
    "    i_offset = np.where(offset_note == note)[0]\n",
    "    if i_offset.size == 0:\n",
    "        note_data[i_onset,2] = np.shape(transcription)[1]\n",
    "    else:\n",
    "        i_offset = i_offset[0]\n",
    "        note_data[i_onset][2] = offset_time[i_offset]*recon_fact\n",
    "    offset_time = np.delete(offset_time, i_offset)\n",
    "    offset_note = np.delete(offset_note, i_offset)"
   ]
  },
  {
   "cell_type": "code",
   "execution_count": null,
   "metadata": {},
   "outputs": [],
   "source": [
    "events = np.zeros([2*np.shape(note_data)[0],3])\n",
    "for i_note, note in enumerate(note_data):\n",
    "    events[2*i_note,0] = note_data[i_note,0]\n",
    "    events[2*i_note+1,0] = note_data[i_note,2]\n",
    "    events[2*i_note,1] = note_data[i_note,1]\n",
    "    events[2*i_note+1,1] = note_data[i_note,1]\n",
    "    events[2*i_note,2] = 0\n",
    "    events[2*i_note+1,2] = 1\n",
    "order = np.argsort(events[:,0])\n",
    "events = events[order]"
   ]
  },
  {
   "cell_type": "code",
   "execution_count": null,
   "metadata": {},
   "outputs": [],
   "source": [
    "pattern = midi.Pattern()\n",
    "track = midi.Track()\n",
    "pattern.append(track)\n",
    "cur_tick = 0.\n",
    "for i_event, event in enumerate(events):\n",
    "    #add midi event\n",
    "    rel_tick = event[0] - cur_tick\n",
    "    cur_tick = cur_tick + rel_tick\n",
    "    \n",
    "    if event[2] == 0:\n",
    "        on = midi.NoteOnEvent(tick=int(rel_tick), velocity=100, pitch=int(event[1]))\n",
    "        track.append(on)\n",
    "    else:\n",
    "        off = midi.NoteOffEvent(tick=int(rel_tick), pitch=int(event[1]))\n",
    "        track.append(off)\n",
    "    \n",
    "eot = midi.EndOfTrackEvent(tick=1)\n",
    "track.append(eot)\n",
    "midi.write_midifile(\"example2.mid\",pattern)"
   ]
  }
 ],
 "metadata": {
  "kernelspec": {
   "display_name": "Python 3",
   "language": "python",
   "name": "python3"
  },
  "language_info": {
   "codemirror_mode": {
    "name": "ipython",
    "version": 3
   },
   "file_extension": ".py",
   "mimetype": "text/x-python",
   "name": "python",
   "nbconvert_exporter": "python",
   "pygments_lexer": "ipython3",
   "version": "3.6.3"
  }
 },
 "nbformat": 4,
 "nbformat_minor": 2
}
